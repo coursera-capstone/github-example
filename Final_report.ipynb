{
 "cells": [
  {
   "cell_type": "markdown",
   "metadata": {},
   "source": [
    "# Introduction"
   ]
  },
  {
   "cell_type": "markdown",
   "metadata": {},
   "source": [
    "The scenario of this project is to find a relative satest place in London for people who want to live in. As peopel often move from one place to another for the result of study or work, one may need to find a safest place to live beforehand instead of set down randomly. The exploration here give a potential idea where may a good choice for people to live. The information related to crime in a certain area in London can be also used for set up a proper business as safety is a key feature you may look into.\n"
   ]
  },
  {
   "cell_type": "markdown",
   "metadata": {},
   "source": [
    "# Data acquisition "
   ]
  },
  {
   "cell_type": "markdown",
   "metadata": {},
   "source": [
    "The data was download from a Kaggle competition (https://www.kaggle.com/jboysen/london-crime) for crime data in London. It offers the data from 2008 to 2016. To be resonalbe for the result here, we only take the latest data which is year 2016 for analysis.\n",
    "\n",
    "The data here include the crime types which are:\n",
    "* Iso_code: code for Lower Super Output Area in Greater London\n",
    "* borough: Command name for London borough\n",
    "* major_category: High level categorization for crime\n",
    "* minor_category: Low level categorization for crime\n",
    "* value: monthly reported count of categorical crime in given borough\n",
    "* year: Year of reported counts\n",
    "* month: Month of reported counts"
   ]
  },
  {
   "cell_type": "markdown",
   "metadata": {},
   "source": [
    "The list of boroughs was scraped from wiki page (https://en.wikipedia.org/wiki/List_of_London_boroughs). Following data was offter in the table:\n",
    "* Borough: London boroughs' names\n",
    "* Inner: Categorizing as Inner or outer London borough\n",
    "* Status: Royal, city or other borough\n",
    "* Local authority: Local authority of that borough\n",
    "* Political contorl: The political party that control that borough\n",
    "* Headquarters: Headquarters of the Boroughs\n",
    "* Area(sq mi): Area of the borough in square miles\n",
    "* Population: Population number of the borough in year 2013\n",
    "* Co-ordinate: The latitude and longitude of that borough\n",
    "* Nr. in map: Number assigned to each borough to represent viually on a map"
   ]
  },
  {
   "cell_type": "markdown",
   "metadata": {},
   "source": [
    "The other list of neighbohoods of borough Kingston upon Thames was scraped from wiki (https://en.wikipedia.org/wiki/List_of_districts_in_the_Royal_Borough_of_Kingston_upon_Thames). The names was used to create a data frmae with the following information:\n",
    "* Neighbohood: Name of the neighborhood\n",
    "* Borough: Name of the borough\n",
    "* Latitude: Latitude of the borough\n",
    "* Longitude: Longitude of the borough"
   ]
  }
 ],
 "metadata": {
  "kernelspec": {
   "display_name": "dsenv3",
   "language": "python",
   "name": "dsenv3"
  },
  "language_info": {
   "codemirror_mode": {
    "name": "ipython",
    "version": 3
   },
   "file_extension": ".py",
   "mimetype": "text/x-python",
   "name": "python",
   "nbconvert_exporter": "python",
   "pygments_lexer": "ipython3",
   "version": "3.7.3"
  }
 },
 "nbformat": 4,
 "nbformat_minor": 2
}
